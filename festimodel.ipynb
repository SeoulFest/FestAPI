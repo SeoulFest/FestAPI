{
 "cells": [
  {
   "cell_type": "code",
   "execution_count": 11,
   "id": "d800ba8a",
   "metadata": {},
   "outputs": [
    {
     "name": "stderr",
     "output_type": "stream",
     "text": [
      "INFO:__main__:CSV 로드 완료. 행 수: 1239, 컬럼 수: 26\n"
     ]
    },
    {
     "name": "stderr",
     "output_type": "stream",
     "text": [
      "INFO:__main__:첫 5행:\n",
      "   eventid       status category location                                          title  subtitle              venue organizer     target_audience                                        ticket_price description additional_info extra_field1                                                                                                                                               website                                                                                              image_url registration_date host_type  start_date    end_date    event_type   latitude   longitude price_type                                                                                       event_url      created_at      updated_at\n",
      "0    39924  NOT_STARTED    전시/미술      강남구                                 K-핸드메이드페어 2025       NaN  서울 삼성동 코엑스 1층  B홀        기타                 누구나                     사전 예매가: 8,000원, 현장 구매가: 10,000원         NaN             NaN          NaN                                                                                                                               https://k-handmade.com/  https://culture.seoul.go.kr/cmmn/file/getImage.do?atchFileId=42afe00583eb4b0983dba37a04a41222&thumb=Y         2025.1.10        기관  2025.12.18  2025.12.21            기타  37.511824  127.059159         유료  https://culture.seoul.go.kr/culture/culture/cultureEvent/view.do?cultcode=152033&menuNo=200009  2025.4.1 12:33  2025.4.1 12:33\n",
      "1    39925  NOT_STARTED    전시/미술      강남구                                   2025 핸드아티코리아       NaN          코엑스전시장 C홀        기타                 누구나  일반 (2006년생 이상): 12,000 / 청소년 (2018 - 07년생): 6,000원         NaN             NaN          NaN                                                                                                 https://handarty.co.kr/coex/exhibition/handartykorea/  https://culture.seoul.go.kr/cmmn/file/getImage.do?atchFileId=39c8b53e2d9e4eac963dc0497f57afed&thumb=Y         2025.3.13        시민    2025.8.7   2025.8.10            기타  37.511824  127.059159         유료  https://culture.seoul.go.kr/culture/culture/cultureEvent/view.do?cultcode=152682&menuNo=200009  2025.4.1 12:33  2025.4.1 12:33\n",
      "2    39926  NOT_STARTED    교육/체험      종로구            [세종예술아카데미] 퇴근길 미술 한 잔 : 모네에서 앤디워홀까지       NaN      세종예술아카데미  서클홀    세종문화회관            관심있는 누구나                                            120,000원         NaN             NaN          NaN  https://www.sejongpac.or.kr/portal/academy/academyProgram/view.do?courseCd=CS102103250230000007&menuNo=200560&searchYear=2025&listType=1&pageIndex=1  https://culture.seoul.go.kr/cmmn/file/getImage.do?atchFileId=175257e9110e437496096a558714901a&thumb=Y         2025.3.12        기관   2025.6.18    2025.7.9            기타  37.572624  126.976005         유료  https://culture.seoul.go.kr/culture/culture/cultureEvent/view.do?cultcode=152670&menuNo=200011  2025.4.1 12:33  2025.4.1 12:33\n",
      "3    39927  NOT_STARTED    교육/체험      노원구  [서울생활사박물관] 2025년 박물관에서 열린 청소년 생활법정(중·고등학교 단체)       NaN           서울생활사박물관  서울생활사박물관  중·고등학교 학급 및 동아리 단체                                                 NaN         NaN             NaN          NaN                                                                                      https://museum.seoul.go.kr/sulm/board/NR_boardList.do?bbsCd=1005  https://culture.seoul.go.kr/cmmn/file/getImage.do?atchFileId=6719f511230d43568d3a5779480d1921&thumb=Y         2025.2.19        기관    2025.6.4  2025.11.26  어린이/청소년 문화행사  37.620174  127.076936         무료  https://culture.seoul.go.kr/culture/culture/cultureEvent/view.do?cultcode=152421&menuNo=200011  2025.4.1 12:33  2025.4.1 12:33\n",
      "4    39928  NOT_STARTED    교육/체험      노원구                          [서울시립과학관] 2025 과학테마교실       NaN     서울시립과학관 1~4교육실   서울시립과학관   중~고등학교 단체(10~20명)                                            강좌당 25만원         NaN             NaN          NaN                                                                             https://science.seoul.go.kr/program/science/read?menuId=14&progMstId=1079  https://culture.seoul.go.kr/cmmn/file/getImage.do?atchFileId=07b6a93cd43d4d988279961391560869&thumb=Y          2025.2.5        기관    2025.6.3   2025.12.5  어린이/청소년 문화행사  37.641994  127.077437         유료  https://culture.seoul.go.kr/culture/culture/cultureEvent/view.do?cultcode=152240&menuNo=200011  2025.4.1 12:33  2025.4.1 12:33\n",
      "INFO:__main__:데이터가 eventlist.csv에 저장되었습니다.\n"
     ]
    }
   ],
   "source": [
    "import pandas as pd\n",
    "import logging\n",
    "\n",
    "# 로깅 설정\n",
    "logging.basicConfig(level=logging.INFO)\n",
    "logger = logging.getLogger(__name__)\n",
    "\n",
    "def load_and_save_festival_data(file_path, output_path):\n",
    "    # 추론한 컬럼 이름\n",
    "    columns = [\n",
    "        'eventid', 'status', 'category', 'location', 'title', 'subtitle', 'venue',\n",
    "        'organizer', 'target_audience', 'ticket_price', 'description', 'additional_info',\n",
    "        'extra_field1', 'website', 'image_url', 'registration_date', 'host_type',\n",
    "        'start_date', 'end_date', 'event_type', 'latitude', 'longitude', 'price_type',\n",
    "        'event_url', 'created_at', 'updated_at'\n",
    "    ]\n",
    "    \n",
    "    try:\n",
    "        # CSV 로드 (헤더 없음, 컬럼 이름 지정)\n",
    "        df = pd.read_csv(file_path, encoding='utf-8-sig', names=columns, header=None)\n",
    "        logger.info(f\"CSV 로드 완료. 행 수: {len(df)}, 컬럼 수: {len(df.columns)}\")\n",
    "        \n",
    "        # 데이터 미리보기\n",
    "        logger.info(f\"첫 5행:\\n{df.head().to_string()}\")\n",
    "        \n",
    "        # 새로운 CSV로 저장 (헤더 포함)\n",
    "        df.to_csv(output_path, index=False, encoding='utf-8-sig')\n",
    "        logger.info(f\"데이터가 {output_path}에 저장되었습니다.\")\n",
    "        \n",
    "        return df\n",
    "    except Exception as e:\n",
    "        logger.error(f\"처리 실패: {e}\")\n",
    "        raise\n",
    "\n",
    "if __name__ == \"__main__\":\n",
    "    input_file = 'event.csv'\n",
    "    output_file = 'eventlist.csv'\n",
    "    festival_data = load_and_save_festival_data(input_file, output_file)"
   ]
  },
  {
   "cell_type": "code",
   "execution_count": null,
   "id": "cfdf4ae6",
   "metadata": {},
   "outputs": [],
   "source": []
  }
 ],
 "metadata": {
  "kernelspec": {
   "display_name": "base",
   "language": "python",
   "name": "python3"
  },
  "language_info": {
   "codemirror_mode": {
    "name": "ipython",
    "version": 3
   },
   "file_extension": ".py",
   "mimetype": "text/x-python",
   "name": "python",
   "nbconvert_exporter": "python",
   "pygments_lexer": "ipython3",
   "version": "3.11.7"
  }
 },
 "nbformat": 4,
 "nbformat_minor": 5
}
